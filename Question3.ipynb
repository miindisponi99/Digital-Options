{
 "cells": [
  {
   "cell_type": "markdown",
   "id": "3cfda3b4",
   "metadata": {},
   "source": [
    "# Question 3"
   ]
  },
  {
   "cell_type": "markdown",
   "id": "c6ee98f0",
   "metadata": {},
   "source": [
    "We import norm from scipy.stats which will help us in the Normal distribution of the Black & Scholes option valuation. We import njit from numba to fasten the process and see the timing difference."
   ]
  },
  {
   "cell_type": "code",
   "execution_count": null,
   "id": "f9b3be19",
   "metadata": {},
   "outputs": [],
   "source": [
    "from math import log, exp, sqrt\n",
    "from scipy.stats import norm\n",
    "from numba import njit\n",
    "import random\n",
    "import numpy as np"
   ]
  },
  {
   "cell_type": "markdown",
   "id": "1d4b2c43",
   "metadata": {},
   "source": [
    "We develop the DigitalCallOptionAnalytical function which takes the given values S0 (Stock Price), K (Strike Price), T (Time to expiration), r (risk-free rate), q (dividend rate), sigma (volatility) and calculate the Digital call option value."
   ]
  },
  {
   "cell_type": "code",
   "execution_count": null,
   "id": "1f9c99a5",
   "metadata": {},
   "outputs": [],
   "source": [
    "def DigitalCallOptionAnalytical(S0,K,T,r,q,sigma):\n",
    "    \"\"\"\n",
    "    Calculates digital call option using analytical formula\n",
    "    \"\"\"\n",
    "    d2 = (log(S0/K) + (r - q - sigma**2/2.0)*T) /sigma*sqrt(T) \n",
    "    value = exp(-r*T)* norm.cdf(d2)\n",
    "    return value"
   ]
  },
  {
   "cell_type": "markdown",
   "id": "c80cce00",
   "metadata": {},
   "source": [
    "Below, we have the Digital call option valuation using the MonteCarlo simulation. We put the initial payoff as zero. Then, we build a loop using the range function which is used to set the number of simulations to be performed. We set the z variable using the random.gauss function to create a random gaussian variable. Then, we define the Digital payoff using an if-elif statement which returns 1 if the stock price is higher then the strike price and 0 otherwise. The payoff is then added to the initial payoff variable which is 0. Lastly, after the loop the payoff is calculated, we calculate the option value using the digital option formula."
   ]
  },
  {
   "cell_type": "code",
   "execution_count": null,
   "id": "6e318164",
   "metadata": {},
   "outputs": [],
   "source": [
    "def DigitalCallOptionMC(S0,K,T,r,q,sigma,numPaths):\n",
    "    \"\"\"\n",
    "    Calculates digital call option using Monte Carlo\n",
    "    \"\"\"\n",
    "    payOff = 0.0\n",
    "    for i in range(0,numPaths): # Loop that goes for the numPaths set\n",
    "        z = random.gauss(0.0,1.0)\n",
    "        S = S0 * exp((r-q-sigma**2/2.0) * T + sigma * sqrt(T) * z)\n",
    "        def DigitalPayoff(S,K):\n",
    "            if S-K>=0.0:\n",
    "                return 1.0\n",
    "            else:\n",
    "                return 0.0\n",
    "        payOff += DigitalPayoff(S,K)\n",
    "    value = payOff * exp(-r*T) / numPaths\n",
    "    return value"
   ]
  },
  {
   "cell_type": "markdown",
   "id": "802885ba",
   "metadata": {},
   "source": [
    "Below, we define the Digital call option MonteCarlo formula using Numpy. Therefore, compared to the above formula, we assign to the z variable the random gaussian variable using the Numpy function np.random.normal. We change also the exp, sqrt and sum functions with the equivalent Numpy ones. Finally, for the payoff we use the heaviside function, part of Numpy, which passes 1 if the difference between the stock price and the strike price is greater than 1, otherwise it passes 0."
   ]
  },
  {
   "cell_type": "code",
   "execution_count": null,
   "id": "9acca21a",
   "metadata": {},
   "outputs": [],
   "source": [
    "def DigitalCallOptionMC_Numpy(S0,K,T,r,q,sigma,numPaths):\n",
    "    \"\"\"\n",
    "    Calculates digital call option using NumPy\n",
    "    \"\"\"\n",
    "    z = np.random.normal(size=numPaths,loc=0.0,scale=1.0) \n",
    "    S = S0 * np.exp((r-q-sigma**2/2.0) * T + sigma * np.sqrt(T) * z)\n",
    "    payOff = np.heaviside(S-K,1) # This function shows the payoff of 1 is S-K is greater than zero\n",
    "    value = np.sum(payOff) * np.exp(-r*T) / numPaths\n",
    "    return value"
   ]
  },
  {
   "cell_type": "markdown",
   "id": "9bf70463",
   "metadata": {},
   "source": [
    "Below, we have the same DigitalCallOptionMC formula. However, we add the @njit at the beginning, allowing us to calculate the whole definition using Numba. This should display a faster computation."
   ]
  },
  {
   "cell_type": "code",
   "execution_count": null,
   "id": "d2c69d07",
   "metadata": {},
   "outputs": [],
   "source": [
    "@njit # It performs the below formula using Numba\n",
    "def DigitalCallOptionMC_Numba(S0,K,T,r,q,sigma,numPaths):\n",
    "    \"\"\"\n",
    "    Calculates digital call option using Numba\n",
    "    \"\"\"\n",
    "    payOff = 0.0\n",
    "    for i in range(0,numPaths):\n",
    "        z = random.gauss(0.0,1.0)\n",
    "        S = S0 * exp((r-q-sigma**2/2.0) * T + sigma * sqrt(T) * z)\n",
    "        def DigitalPayoff(S,K):\n",
    "            if S-K>=0.0:\n",
    "                return 1.0\n",
    "            else:\n",
    "                return 0.0\n",
    "        payOff += DigitalPayoff(S,K)\n",
    "    value = payOff * exp(-r*T) / numPaths\n",
    "    return value"
   ]
  },
  {
   "cell_type": "markdown",
   "id": "806f00d6",
   "metadata": {},
   "source": [
    "Below, the values for each variable we will use to calculate the option value using the different definitions."
   ]
  },
  {
   "cell_type": "code",
   "execution_count": null,
   "id": "2cc34f38",
   "metadata": {},
   "outputs": [],
   "source": [
    "S0, K, T, r, q, sigma, numPaths = 110, 100, 1.0, 0.05, 0.0, 0.4, 10000"
   ]
  },
  {
   "cell_type": "code",
   "execution_count": null,
   "id": "d2c1b0c1",
   "metadata": {},
   "outputs": [],
   "source": [
    "DigitalCallOptionAnalytical(S0,K,T,r,q,sigma)"
   ]
  },
  {
   "cell_type": "code",
   "execution_count": null,
   "id": "ae51c6e5",
   "metadata": {},
   "outputs": [],
   "source": [
    "DigitalCallOptionMC(S0,K,T,r,q,sigma,numPaths)"
   ]
  },
  {
   "cell_type": "code",
   "execution_count": null,
   "id": "54420477",
   "metadata": {},
   "outputs": [],
   "source": [
    "DigitalCallOptionMC_Numpy(S0,K,T,r,q,sigma,numPaths)"
   ]
  },
  {
   "cell_type": "code",
   "execution_count": null,
   "id": "7da3c03a",
   "metadata": {},
   "outputs": [],
   "source": [
    "DigitalCallOptionMC_Numba(S0,K,T,r,q,sigma,numPaths)"
   ]
  },
  {
   "cell_type": "code",
   "execution_count": null,
   "id": "4d852455",
   "metadata": {},
   "outputs": [],
   "source": [
    "%timeit DigitalCallOptionAnalytical(S0,K,T,r,q,sigma)"
   ]
  },
  {
   "cell_type": "code",
   "execution_count": null,
   "id": "aab30f1d",
   "metadata": {},
   "outputs": [],
   "source": [
    "%timeit DigitalCallOptionMC(S0,K,T,r,q,sigma,numPaths)"
   ]
  },
  {
   "cell_type": "code",
   "execution_count": null,
   "id": "80c4a380",
   "metadata": {},
   "outputs": [],
   "source": [
    "%timeit DigitalCallOptionMC_Numpy(S0,K,T,r,q,sigma,numPaths)"
   ]
  },
  {
   "cell_type": "code",
   "execution_count": null,
   "id": "a31ad4f7",
   "metadata": {},
   "outputs": [],
   "source": [
    "%timeit DigitalCallOptionMC_Numba(S0,K,T,r,q,sigma,numPaths)"
   ]
  },
  {
   "cell_type": "markdown",
   "id": "0dcceda3",
   "metadata": {},
   "source": [
    "Using the %timeit function we can see the time to calculate the Digital Call Option using the different definitions. As can we see the Numba function appears to be faster than the Numpy one. However, using Monte Carlo is slower than both of them, whilst the analytical formula is the fastest one."
   ]
  }
 ],
 "metadata": {
  "kernelspec": {
   "display_name": "Python 3 (ipykernel)",
   "language": "python",
   "name": "python3"
  },
  "language_info": {
   "codemirror_mode": {
    "name": "ipython",
    "version": 3
   },
   "file_extension": ".py",
   "mimetype": "text/x-python",
   "name": "python",
   "nbconvert_exporter": "python",
   "pygments_lexer": "ipython3",
   "version": "3.10.9"
  }
 },
 "nbformat": 4,
 "nbformat_minor": 5
}
